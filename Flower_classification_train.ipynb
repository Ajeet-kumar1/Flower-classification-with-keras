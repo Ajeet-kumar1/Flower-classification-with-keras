{
  "nbformat": 4,
  "nbformat_minor": 0,
  "metadata": {
    "colab": {
      "name": "Flower classification.ipynb",
      "provenance": [],
      "collapsed_sections": []
    },
    "kernelspec": {
      "name": "python3",
      "display_name": "Python 3"
    },
    "accelerator": "GPU"
  },
  "cells": [
    {
      "cell_type": "markdown",
      "metadata": {
        "id": "3MRiXVD3z9FX",
        "colab_type": "text"
      },
      "source": [
        "First mount the drive so that model can strore in drive."
      ]
    },
    {
      "cell_type": "code",
      "metadata": {
        "id": "9OE9aKzeSgVZ",
        "colab_type": "code",
        "colab": {
          "base_uri": "https://localhost:8080/",
          "height": 121
        },
        "outputId": "c12f8e2f-87b6-4a34-a2ba-0800959380b7"
      },
      "source": [
        "from google.colab import drive\n",
        " \n",
        "drive.mount('/content/drive')"
      ],
      "execution_count": null,
      "outputs": [
        {
          "output_type": "stream",
          "text": [
            "Go to this URL in a browser: https://accounts.google.com/o/oauth2/auth?client_id=947318989803-6bn6qk8qdgf4n4g3pfee6491hc0brc4i.apps.googleusercontent.com&redirect_uri=urn%3aietf%3awg%3aoauth%3a2.0%3aoob&response_type=code&scope=email%20https%3a%2f%2fwww.googleapis.com%2fauth%2fdocs.test%20https%3a%2f%2fwww.googleapis.com%2fauth%2fdrive%20https%3a%2f%2fwww.googleapis.com%2fauth%2fdrive.photos.readonly%20https%3a%2f%2fwww.googleapis.com%2fauth%2fpeopleapi.readonly\n",
            "\n",
            "Enter your authorization code:\n",
            "··········\n",
            "Mounted at /content/drive\n"
          ],
          "name": "stdout"
        }
      ]
    },
    {
      "cell_type": "markdown",
      "metadata": {
        "id": "5_QV-Cu30Np_",
        "colab_type": "text"
      },
      "source": [
        "Change directory of mounted drive"
      ]
    },
    {
      "cell_type": "code",
      "metadata": {
        "id": "b1YIeuSLShhF",
        "colab_type": "code",
        "colab": {
          "base_uri": "https://localhost:8080/",
          "height": 34
        },
        "outputId": "6c6c2a27-f0d3-4815-c566-f46ca1a11f3f"
      },
      "source": [
        "cd '/content/drive/My Drive/Flower-Classi1'"
      ],
      "execution_count": null,
      "outputs": [
        {
          "output_type": "stream",
          "text": [
            "/content/drive/My Drive/Flower-Classi1\n"
          ],
          "name": "stdout"
        }
      ]
    },
    {
      "cell_type": "markdown",
      "metadata": {
        "id": "NnIURJ8_0TjH",
        "colab_type": "text"
      },
      "source": [
        "Load the dataset from the website"
      ]
    },
    {
      "cell_type": "code",
      "metadata": {
        "id": "jAIaTx-ak8lK",
        "colab_type": "code",
        "colab": {
          "base_uri": "https://localhost:8080/",
          "height": 386
        },
        "outputId": "6dbfedd0-5363-4034-dc21-f57066967628"
      },
      "source": [
        "!wget http://www.robots.ox.ac.uk/~vgg/data/flowers/102/102flowers.tgz\n",
        "!tar -xzf 102flowers.tgz\n",
        "!rm 102flowers.tgz\n",
        "!wget http://www.robots.ox.ac.uk/~vgg/data/flowers/102/imagelabels.mat"
      ],
      "execution_count": null,
      "outputs": [
        {
          "output_type": "stream",
          "text": [
            "--2020-07-21 07:30:58--  http://www.robots.ox.ac.uk/~vgg/data/flowers/102/102flowers.tgz\n",
            "Resolving www.robots.ox.ac.uk (www.robots.ox.ac.uk)... 129.67.94.2\n",
            "Connecting to www.robots.ox.ac.uk (www.robots.ox.ac.uk)|129.67.94.2|:80... connected.\n",
            "HTTP request sent, awaiting response... 200 OK\n",
            "Length: 344862509 (329M) [application/x-gzip]\n",
            "Saving to: ‘102flowers.tgz’\n",
            "\n",
            "102flowers.tgz      100%[===================>] 328.89M  48.3MB/s    in 7.0s    \n",
            "\n",
            "2020-07-21 07:31:05 (47.1 MB/s) - ‘102flowers.tgz’ saved [344862509/344862509]\n",
            "\n",
            "--2020-07-21 07:35:14--  http://www.robots.ox.ac.uk/~vgg/data/flowers/102/imagelabels.mat\n",
            "Resolving www.robots.ox.ac.uk (www.robots.ox.ac.uk)... 129.67.94.2\n",
            "Connecting to www.robots.ox.ac.uk (www.robots.ox.ac.uk)|129.67.94.2|:80... connected.\n",
            "HTTP request sent, awaiting response... 200 OK\n",
            "Length: 502\n",
            "Saving to: ‘imagelabels.mat.2’\n",
            "\n",
            "imagelabels.mat.2   100%[===================>]     502  --.-KB/s    in 0s      \n",
            "\n",
            "2020-07-21 07:35:14 (68.5 MB/s) - ‘imagelabels.mat.2’ saved [502/502]\n",
            "\n"
          ],
          "name": "stdout"
        }
      ]
    },
    {
      "cell_type": "markdown",
      "metadata": {
        "id": "pX4gUQG10Z3o",
        "colab_type": "text"
      },
      "source": [
        "Import required modules and libraries"
      ]
    },
    {
      "cell_type": "code",
      "metadata": {
        "id": "2JtYRBcJqRsR",
        "colab_type": "code",
        "colab": {
          "base_uri": "https://localhost:8080/",
          "height": 34
        },
        "outputId": "46d143ac-5db9-46ef-d716-8c14db4fc505"
      },
      "source": [
        "import os\n",
        "import numpy as np\n",
        "import scipy.io\n",
        "import cv2\n",
        "from keras.utils import to_categorical\n",
        "from sklearn.model_selection import train_test_split"
      ],
      "execution_count": null,
      "outputs": [
        {
          "output_type": "stream",
          "text": [
            "Using TensorFlow backend.\n"
          ],
          "name": "stderr"
        }
      ]
    },
    {
      "cell_type": "markdown",
      "metadata": {
        "id": "_ZHQNTi70vH3",
        "colab_type": "text"
      },
      "source": [
        ""
      ]
    },
    {
      "cell_type": "markdown",
      "metadata": {
        "id": "fu5KtJR20vLx",
        "colab_type": "text"
      },
      "source": [
        "Now start preprocessing of data"
      ]
    },
    {
      "cell_type": "code",
      "metadata": {
        "id": "rRVoOuqIquo2",
        "colab_type": "code",
        "colab": {}
      },
      "source": [
        "img_labels = scipy.io.loadmat(\"imagelabels.mat\")\n",
        "img_labels = img_labels[\"labels\"]\n",
        "img_labels = img_labels[0]\n",
        "for i in range(len(img_labels)):\n",
        "  img_labels[i] = img_labels[i] - 1"
      ],
      "execution_count": null,
      "outputs": []
    },
    {
      "cell_type": "markdown",
      "metadata": {
        "id": "-UZzhpxY05zR",
        "colab_type": "text"
      },
      "source": [
        "resize images using **opencv**"
      ]
    },
    {
      "cell_type": "code",
      "metadata": {
        "id": "fQX4Vwx9qyOi",
        "colab_type": "code",
        "colab": {}
      },
      "source": [
        "train_x = []\n",
        "train_y = []\n",
        "dir = \"jpg/\"\n",
        "for imgs in os.listdir(dir):\n",
        "  img_num = int(imgs[7:11])-1\n",
        "  train_y.append(img_labels[img_num])\n",
        "  image = cv2.imread(os.path.join(dir, imgs))\n",
        "  resized = cv2.resize(image, (150,150))\n",
        "  normalized_img = cv2.normalize(resized, None, alpha=0, beta=1, \n",
        "                            norm_type=cv2.NORM_MINMAX, dtype=cv2.CV_32F)\n",
        "  train_x.append(normalized_img)\n",
        "train_x = np.array(train_x)"
      ],
      "execution_count": null,
      "outputs": []
    },
    {
      "cell_type": "markdown",
      "metadata": {
        "id": "E3eT7cFB1B2v",
        "colab_type": "text"
      },
      "source": [
        "Split dataset into two parts training dataset and validation dataset and print the shape"
      ]
    },
    {
      "cell_type": "code",
      "metadata": {
        "id": "zLUH28kXq13S",
        "colab_type": "code",
        "colab": {}
      },
      "source": [
        "trainx, valx, trainy, valy = train_test_split(train_x, train_y, test_size=0.15, random_state=10)"
      ],
      "execution_count": null,
      "outputs": []
    },
    {
      "cell_type": "code",
      "metadata": {
        "id": "qVNaIBnArGNp",
        "colab_type": "code",
        "colab": {
          "base_uri": "https://localhost:8080/",
          "height": 50
        },
        "outputId": "7b25a944-52fc-4f56-9a02-7d3301608dd7"
      },
      "source": [
        "print('Training Dataset Shape: ­{}'.format(trainx.shape))\n",
        "print('No. of Training Dataset Labels: {}'.format(len(trainy)))"
      ],
      "execution_count": null,
      "outputs": [
        {
          "output_type": "stream",
          "text": [
            "Training Dataset Shape: ­(6960, 150, 150, 3)\n",
            "No. of Training Dataset Labels: 6960\n"
          ],
          "name": "stdout"
        }
      ]
    },
    {
      "cell_type": "markdown",
      "metadata": {
        "id": "9U9U_itl1amQ",
        "colab_type": "text"
      },
      "source": [
        "To make easier and convergable normalize all images "
      ]
    },
    {
      "cell_type": "code",
      "metadata": {
        "id": "ZxxSDgxVrJhG",
        "colab_type": "code",
        "colab": {
          "base_uri": "https://localhost:8080/",
          "height": 84
        },
        "outputId": "c880b779-e668-4043-f107-217922854a23"
      },
      "source": [
        "training_images= trainx/255.0\n",
        "test_images=valx/255.0\n",
        " \n",
        "training_images = trainx.reshape((6960,150,150,3))\n",
        "valx = valx.reshape((1229,150,150,3))\n",
        "print('Training Dataset Shape: ­{}'.format(trainx.shape))\n",
        "print('No. of Training Dataset Labels: {}'.format(len(trainy)))\n",
        "print('Test Dataset Shape: {}'.format(valx.shape))\n",
        "print('No. of Test Dataset Labels: {}'.format(len(valy)))"
      ],
      "execution_count": null,
      "outputs": [
        {
          "output_type": "stream",
          "text": [
            "Training Dataset Shape: ­(6960, 150, 150, 3)\n",
            "No. of Training Dataset Labels: 6960\n",
            "Test Dataset Shape: (1229, 150, 150, 3)\n",
            "No. of Test Dataset Labels: 1229\n"
          ],
          "name": "stdout"
        }
      ]
    },
    {
      "cell_type": "markdown",
      "metadata": {
        "id": "f409gOES1oCZ",
        "colab_type": "text"
      },
      "source": [
        "Categorize data"
      ]
    },
    {
      "cell_type": "code",
      "metadata": {
        "id": "b3A3OJxzrM48",
        "colab_type": "code",
        "colab": {}
      },
      "source": [
        "trainy = to_categorical(trainy)\n",
        "valy = to_categorical(valy)"
      ],
      "execution_count": null,
      "outputs": []
    },
    {
      "cell_type": "markdown",
      "metadata": {
        "id": "JkqORsHH2hqe",
        "colab_type": "text"
      },
      "source": [
        ""
      ]
    },
    {
      "cell_type": "markdown",
      "metadata": {
        "id": "JDlnku6k1uce",
        "colab_type": "text"
      },
      "source": [
        "Save the validation dataset for test"
      ]
    },
    {
      "cell_type": "code",
      "metadata": {
        "id": "IYKkvZ9QrTOQ",
        "colab_type": "code",
        "colab": {
          "base_uri": "https://localhost:8080/",
          "height": 50
        },
        "outputId": "7e4b89d2-baea-4b39-f6a4-66c8b552b464"
      },
      "source": [
        "print(type(test_images))\n",
        "print(type(valy))\n",
        "from numpy import save\n",
        "save('test_images.npy', test_images)\n",
        "save('test_lables.npy',trainy)"
      ],
      "execution_count": null,
      "outputs": [
        {
          "output_type": "stream",
          "text": [
            "<class 'numpy.ndarray'>\n",
            "<class 'numpy.ndarray'>\n"
          ],
          "name": "stdout"
        }
      ]
    },
    {
      "cell_type": "code",
      "metadata": {
        "id": "LXC1SaJewkQa",
        "colab_type": "code",
        "colab": {
          "base_uri": "https://localhost:8080/",
          "height": 353
        },
        "outputId": "b39e2778-69cd-485b-e6e8-4a481ff19468"
      },
      "source": [
        "import matplotlib.pyplot as plt\n",
        "plt.imshow(training_images[123])\n",
        "print(trainy[123])"
      ],
      "execution_count": null,
      "outputs": [
        {
          "output_type": "stream",
          "text": [
            "[0. 0. 0. 0. 0. 0. 0. 0. 0. 0. 0. 0. 0. 0. 0. 0. 0. 0. 0. 0. 0. 0. 0. 0.\n",
            " 0. 0. 0. 0. 0. 0. 0. 0. 0. 0. 0. 0. 0. 0. 0. 0. 0. 0. 0. 0. 0. 0. 0. 0.\n",
            " 0. 0. 0. 0. 0. 0. 0. 0. 0. 0. 0. 0. 0. 0. 0. 0. 0. 0. 0. 0. 0. 0. 0. 0.\n",
            " 0. 1. 0. 0. 0. 0. 0. 0. 0. 0. 0. 0. 0. 0. 0. 0. 0. 0. 0. 0. 0. 0. 0. 0.\n",
            " 0. 0. 0. 0. 0. 0.]\n"
          ],
          "name": "stdout"
        },
        {
          "output_type": "display_data",
          "data": {
            "image/png": "[encoded data removed]",
            "text/plain": [
              "<Figure size 432x288 with 1 Axes>"
            ]
          },
          "metadata": {
            "tags": [],
            "needs_background": "light"
          }
        }
      ]
    },
    {
      "cell_type": "markdown",
      "metadata": {
        "id": "F4EdXHUY3ivg",
        "colab_type": "text"
      },
      "source": [
        "Build the model and train"
      ]
    },
    {
      "cell_type": "code",
      "metadata": {
        "id": "VBAVt3pXbp3X",
        "colab_type": "code",
        "colab": {
          "base_uri": "https://localhost:8080/",
          "height": 1000
        },
        "outputId": "699c80f3-dd83-4527-af6b-2e4833818821"
      },
      "source": [
        " \n",
        "from keras.layers import Dense, Conv2D, Flatten, MaxPooling2D, Dropout\n",
        "from keras.models import Sequential\n",
        "from tensorflow.keras import layers\n",
        "from tensorflow.keras import regularizers\n",
        "model = Sequential()\n",
        " \n",
        "#add model layers\n",
        " \n",
        " \n",
        "model = Sequential()\n",
        "# #Layer 1\n",
        "model.add(Conv2D(64, kernel_size=3, activation='relu', input_shape=(150, 150, 3),strides=(2,2)))\n",
        "model.add(MaxPooling2D((2,2)))\n",
        "model.add(Dropout(0.3))\n",
        " \n",
        "# #Layer 2\n",
        "model.add(Conv2D(128, kernel_size=3, activation='relu'))\n",
        "model.add(MaxPooling2D((2,2)))\n",
        "model.add(Dropout(0.4))\n",
        "# #Layer 3\n",
        " \n",
        "model.add(Conv2D(128, kernel_size=3, activation='relu'))\n",
        "model.add(MaxPooling2D((2,2)))\n",
        "model.add(Dropout(0.5))\n",
        "# #Layer 4\n",
        "model.add(Conv2D(256, kernel_size=3, activation='relu'))\n",
        "model.add(MaxPooling2D((2,2)))\n",
        "# #Input to Neural Network is flattened\n",
        "model.add(Flatten())\n",
        "# #1st hidden layer with 512 neurons/nodes\n",
        "model.add(Dense(512, activation='relu'))\n",
        "model.add(Dropout(0.6))\n",
        "# #Output layer with 102 nodes for classifying 102 flowers\n",
        "model.add(Dense(102, activation='softmax'))\n",
        " \n",
        "\"\"\"## Compiling and Training the Neural Network\"\"\"\n",
        " \n",
        "#Compile the neural network\n",
        "model.compile(optimizer=\"adam\", loss=\"categorical_crossentropy\", metrics=[\"accuracy\"])\n",
        " \n",
        "#Train the network\n",
        "model.fit(trainx, trainy, validation_data = (valx, valy), epochs=80, batch_size=200)"
      ],
      "execution_count": null,
      "outputs": [
        {
          "output_type": "stream",
          "text": [
            "Train on 6960 samples, validate on 1229 samples\n",
            "Epoch 1/80\n",
            "6960/6960 [==============================] - 7s 1ms/step - loss: 4.5512 - accuracy: 0.0276 - val_loss: 4.5021 - val_accuracy: 0.0488\n",
            "Epoch 2/80\n",
            "6960/6960 [==============================] - 7s 960us/step - loss: 4.2960 - accuracy: 0.0471 - val_loss: 4.1395 - val_accuracy: 0.0602\n",
            "Epoch 3/80\n",
            "6960/6960 [==============================] - 7s 953us/step - loss: 3.9910 - accuracy: 0.0714 - val_loss: 3.8375 - val_accuracy: 0.1009\n",
            "Epoch 4/80\n",
            "6960/6960 [==============================] - 7s 957us/step - loss: 3.7822 - accuracy: 0.0874 - val_loss: 3.7370 - val_accuracy: 0.1196\n",
            "Epoch 5/80\n",
            "6960/6960 [==============================] - 7s 956us/step - loss: 3.6098 - accuracy: 0.1148 - val_loss: 3.5672 - val_accuracy: 0.1253\n",
            "Epoch 6/80\n",
            "6960/6960 [==============================] - 7s 959us/step - loss: 3.4311 - accuracy: 0.1445 - val_loss: 3.3179 - val_accuracy: 0.1725\n",
            "Epoch 7/80\n",
            "6960/6960 [==============================] - 7s 954us/step - loss: 3.2544 - accuracy: 0.1737 - val_loss: 3.2109 - val_accuracy: 0.2238\n",
            "Epoch 8/80\n",
            "6960/6960 [==============================] - 7s 948us/step - loss: 3.0664 - accuracy: 0.2116 - val_loss: 2.9726 - val_accuracy: 0.2726\n",
            "Epoch 9/80\n",
            "6960/6960 [==============================] - 7s 954us/step - loss: 2.9121 - accuracy: 0.2414 - val_loss: 2.7898 - val_accuracy: 0.3043\n",
            "Epoch 10/80\n",
            "6960/6960 [==============================] - 7s 955us/step - loss: 2.7702 - accuracy: 0.2700 - val_loss: 2.6477 - val_accuracy: 0.3230\n",
            "Epoch 11/80\n",
            "6960/6960 [==============================] - 7s 957us/step - loss: 2.6321 - accuracy: 0.2986 - val_loss: 2.4737 - val_accuracy: 0.3759\n",
            "Epoch 12/80\n",
            "6960/6960 [==============================] - 7s 955us/step - loss: 2.5366 - accuracy: 0.3134 - val_loss: 2.3508 - val_accuracy: 0.3963\n",
            "Epoch 13/80\n",
            "6960/6960 [==============================] - 7s 955us/step - loss: 2.4050 - accuracy: 0.3514 - val_loss: 2.2738 - val_accuracy: 0.4020\n",
            "Epoch 14/80\n",
            "6960/6960 [==============================] - 7s 955us/step - loss: 2.2549 - accuracy: 0.3845 - val_loss: 2.0887 - val_accuracy: 0.4581\n",
            "Epoch 15/80\n",
            "6960/6960 [==============================] - 7s 957us/step - loss: 2.1908 - accuracy: 0.4006 - val_loss: 2.1417 - val_accuracy: 0.4264\n",
            "Epoch 16/80\n",
            "6960/6960 [==============================] - 7s 955us/step - loss: 2.0857 - accuracy: 0.4312 - val_loss: 1.9800 - val_accuracy: 0.4646\n",
            "Epoch 17/80\n",
            "6960/6960 [==============================] - 7s 958us/step - loss: 1.9947 - accuracy: 0.4443 - val_loss: 1.9638 - val_accuracy: 0.4638\n",
            "Epoch 18/80\n",
            "6960/6960 [==============================] - 7s 955us/step - loss: 1.9443 - accuracy: 0.4599 - val_loss: 1.8673 - val_accuracy: 0.4906\n",
            "Epoch 19/80\n",
            "6960/6960 [==============================] - 7s 958us/step - loss: 1.8413 - accuracy: 0.4833 - val_loss: 1.7707 - val_accuracy: 0.5159\n",
            "Epoch 20/80\n",
            "6960/6960 [==============================] - 7s 962us/step - loss: 1.7879 - accuracy: 0.4974 - val_loss: 1.8146 - val_accuracy: 0.4931\n",
            "Epoch 21/80\n",
            "6960/6960 [==============================] - 7s 957us/step - loss: 1.7091 - accuracy: 0.5152 - val_loss: 1.7341 - val_accuracy: 0.5175\n",
            "Epoch 22/80\n",
            "6960/6960 [==============================] - 7s 953us/step - loss: 1.6743 - accuracy: 0.5247 - val_loss: 1.7315 - val_accuracy: 0.5207\n",
            "Epoch 23/80\n",
            "6960/6960 [==============================] - 7s 956us/step - loss: 1.6193 - accuracy: 0.5411 - val_loss: 1.6627 - val_accuracy: 0.5476\n",
            "Epoch 24/80\n",
            "6960/6960 [==============================] - 7s 957us/step - loss: 1.5332 - accuracy: 0.5565 - val_loss: 1.6878 - val_accuracy: 0.5232\n",
            "Epoch 25/80\n",
            "6960/6960 [==============================] - 7s 956us/step - loss: 1.5467 - accuracy: 0.5547 - val_loss: 1.6156 - val_accuracy: 0.5427\n",
            "Epoch 26/80\n",
            "6960/6960 [==============================] - 7s 954us/step - loss: 1.4555 - accuracy: 0.5816 - val_loss: 1.5889 - val_accuracy: 0.5631\n",
            "Epoch 27/80\n",
            "6960/6960 [==============================] - 7s 955us/step - loss: 1.4060 - accuracy: 0.5922 - val_loss: 1.5844 - val_accuracy: 0.5590\n",
            "Epoch 28/80\n",
            "6960/6960 [==============================] - 7s 958us/step - loss: 1.3714 - accuracy: 0.5945 - val_loss: 1.5464 - val_accuracy: 0.5745\n",
            "Epoch 29/80\n",
            "6960/6960 [==============================] - 7s 958us/step - loss: 1.3402 - accuracy: 0.6059 - val_loss: 1.5079 - val_accuracy: 0.5712\n",
            "Epoch 30/80\n",
            "6960/6960 [==============================] - 7s 959us/step - loss: 1.2804 - accuracy: 0.6213 - val_loss: 1.5073 - val_accuracy: 0.5989\n",
            "Epoch 31/80\n",
            "6960/6960 [==============================] - 7s 955us/step - loss: 1.2683 - accuracy: 0.6261 - val_loss: 1.5718 - val_accuracy: 0.5688\n",
            "Epoch 32/80\n",
            "6960/6960 [==============================] - 7s 955us/step - loss: 1.1954 - accuracy: 0.6428 - val_loss: 1.4718 - val_accuracy: 0.6005\n",
            "Epoch 33/80\n",
            "6960/6960 [==============================] - 7s 955us/step - loss: 1.1601 - accuracy: 0.6494 - val_loss: 1.4586 - val_accuracy: 0.6086\n",
            "Epoch 34/80\n",
            "6960/6960 [==============================] - 7s 958us/step - loss: 1.1065 - accuracy: 0.6684 - val_loss: 1.4264 - val_accuracy: 0.6119\n",
            "Epoch 35/80\n",
            "6960/6960 [==============================] - 7s 958us/step - loss: 1.0851 - accuracy: 0.6726 - val_loss: 1.4247 - val_accuracy: 0.6094\n",
            "Epoch 36/80\n",
            "6960/6960 [==============================] - 7s 964us/step - loss: 1.0400 - accuracy: 0.6891 - val_loss: 1.4258 - val_accuracy: 0.6086\n",
            "Epoch 37/80\n",
            "6960/6960 [==============================] - 7s 962us/step - loss: 1.0546 - accuracy: 0.6832 - val_loss: 1.4581 - val_accuracy: 0.6086\n",
            "Epoch 38/80\n",
            "6960/6960 [==============================] - 7s 956us/step - loss: 0.9934 - accuracy: 0.6978 - val_loss: 1.4208 - val_accuracy: 0.6184\n",
            "Epoch 39/80\n",
            "6960/6960 [==============================] - 7s 956us/step - loss: 0.9653 - accuracy: 0.7070 - val_loss: 1.4425 - val_accuracy: 0.6168\n",
            "Epoch 40/80\n",
            "6960/6960 [==============================] - 7s 957us/step - loss: 0.9691 - accuracy: 0.7039 - val_loss: 1.3998 - val_accuracy: 0.6241\n",
            "Epoch 41/80\n",
            "6960/6960 [==============================] - 7s 956us/step - loss: 0.9239 - accuracy: 0.7134 - val_loss: 1.3441 - val_accuracy: 0.6412\n",
            "Epoch 42/80\n",
            "6960/6960 [==============================] - 7s 958us/step - loss: 0.8842 - accuracy: 0.7326 - val_loss: 1.4416 - val_accuracy: 0.6338\n",
            "Epoch 43/80\n",
            "6960/6960 [==============================] - 7s 960us/step - loss: 0.8716 - accuracy: 0.7315 - val_loss: 1.4822 - val_accuracy: 0.6216\n",
            "Epoch 44/80\n",
            "6960/6960 [==============================] - 7s 961us/step - loss: 0.8508 - accuracy: 0.7386 - val_loss: 1.3945 - val_accuracy: 0.6355\n",
            "Epoch 45/80\n",
            "6960/6960 [==============================] - 7s 958us/step - loss: 0.8363 - accuracy: 0.7420 - val_loss: 1.3898 - val_accuracy: 0.6509\n",
            "Epoch 46/80\n",
            "6960/6960 [==============================] - 7s 958us/step - loss: 0.7999 - accuracy: 0.7552 - val_loss: 1.4350 - val_accuracy: 0.6452\n",
            "Epoch 47/80\n",
            "6960/6960 [==============================] - 7s 953us/step - loss: 0.8079 - accuracy: 0.7506 - val_loss: 1.3929 - val_accuracy: 0.6387\n",
            "Epoch 48/80\n",
            "6960/6960 [==============================] - 7s 955us/step - loss: 0.7595 - accuracy: 0.7614 - val_loss: 1.3779 - val_accuracy: 0.6412\n",
            "Epoch 49/80\n",
            "6960/6960 [==============================] - 7s 957us/step - loss: 0.7065 - accuracy: 0.7796 - val_loss: 1.4151 - val_accuracy: 0.6395\n",
            "Epoch 50/80\n",
            "6960/6960 [==============================] - 7s 951us/step - loss: 0.7146 - accuracy: 0.7777 - val_loss: 1.4365 - val_accuracy: 0.6355\n",
            "Epoch 51/80\n",
            "6960/6960 [==============================] - 7s 955us/step - loss: 0.6981 - accuracy: 0.7833 - val_loss: 1.4229 - val_accuracy: 0.6501\n",
            "Epoch 52/80\n",
            "6960/6960 [==============================] - 7s 958us/step - loss: 0.7031 - accuracy: 0.7790 - val_loss: 1.3684 - val_accuracy: 0.6477\n",
            "Epoch 53/80\n",
            "6960/6960 [==============================] - 7s 955us/step - loss: 0.6459 - accuracy: 0.7977 - val_loss: 1.4676 - val_accuracy: 0.6314\n",
            "Epoch 54/80\n",
            "6960/6960 [==============================] - 7s 953us/step - loss: 0.6693 - accuracy: 0.7927 - val_loss: 1.4463 - val_accuracy: 0.6428\n",
            "Epoch 55/80\n",
            "6960/6960 [==============================] - 7s 954us/step - loss: 0.6295 - accuracy: 0.7997 - val_loss: 1.4278 - val_accuracy: 0.6379\n",
            "Epoch 56/80\n",
            "6960/6960 [==============================] - 7s 955us/step - loss: 0.6158 - accuracy: 0.8066 - val_loss: 1.4531 - val_accuracy: 0.6330\n",
            "Epoch 57/80\n",
            "6960/6960 [==============================] - 7s 952us/step - loss: 0.6020 - accuracy: 0.8091 - val_loss: 1.3903 - val_accuracy: 0.6615\n",
            "Epoch 58/80\n",
            "6960/6960 [==============================] - 7s 956us/step - loss: 0.5879 - accuracy: 0.8148 - val_loss: 1.4704 - val_accuracy: 0.6314\n",
            "Epoch 59/80\n",
            "6960/6960 [==============================] - 7s 955us/step - loss: 0.5823 - accuracy: 0.8149 - val_loss: 1.4376 - val_accuracy: 0.6477\n",
            "Epoch 60/80\n",
            "6960/6960 [==============================] - 7s 952us/step - loss: 0.5707 - accuracy: 0.8194 - val_loss: 1.4202 - val_accuracy: 0.6477\n",
            "Epoch 61/80\n",
            "6960/6960 [==============================] - 7s 961us/step - loss: 0.5449 - accuracy: 0.8214 - val_loss: 1.4538 - val_accuracy: 0.6623\n",
            "Epoch 62/80\n",
            "6960/6960 [==============================] - 7s 958us/step - loss: 0.5347 - accuracy: 0.8289 - val_loss: 1.4416 - val_accuracy: 0.6550\n",
            "Epoch 63/80\n",
            "6960/6960 [==============================] - 7s 951us/step - loss: 0.5054 - accuracy: 0.8342 - val_loss: 1.4463 - val_accuracy: 0.6558\n",
            "Epoch 64/80\n",
            "6960/6960 [==============================] - 7s 953us/step - loss: 0.5336 - accuracy: 0.8315 - val_loss: 1.4410 - val_accuracy: 0.6599\n",
            "Epoch 65/80\n",
            "6960/6960 [==============================] - 7s 955us/step - loss: 0.5202 - accuracy: 0.8323 - val_loss: 1.5059 - val_accuracy: 0.6517\n",
            "Epoch 66/80\n",
            "6960/6960 [==============================] - 7s 956us/step - loss: 0.5535 - accuracy: 0.8220 - val_loss: 1.4138 - val_accuracy: 0.6566\n",
            "Epoch 67/80\n",
            "6960/6960 [==============================] - 7s 954us/step - loss: 0.5058 - accuracy: 0.8394 - val_loss: 1.4640 - val_accuracy: 0.6574\n",
            "Epoch 68/80\n",
            "6960/6960 [==============================] - 7s 953us/step - loss: 0.4737 - accuracy: 0.8415 - val_loss: 1.4470 - val_accuracy: 0.6501\n",
            "Epoch 69/80\n",
            "6960/6960 [==============================] - 7s 952us/step - loss: 0.5022 - accuracy: 0.8359 - val_loss: 1.4430 - val_accuracy: 0.6672\n",
            "Epoch 70/80\n",
            "6960/6960 [==============================] - 7s 954us/step - loss: 0.4953 - accuracy: 0.8353 - val_loss: 1.4663 - val_accuracy: 0.6485\n",
            "Epoch 71/80\n",
            "6960/6960 [==============================] - 7s 956us/step - loss: 0.4687 - accuracy: 0.8537 - val_loss: 1.4726 - val_accuracy: 0.6534\n",
            "Epoch 72/80\n",
            "6960/6960 [==============================] - 7s 954us/step - loss: 0.4720 - accuracy: 0.8501 - val_loss: 1.5112 - val_accuracy: 0.6631\n",
            "Epoch 73/80\n",
            "6960/6960 [==============================] - 7s 957us/step - loss: 0.4348 - accuracy: 0.8563 - val_loss: 1.5258 - val_accuracy: 0.6599\n",
            "Epoch 74/80\n",
            "6960/6960 [==============================] - 7s 958us/step - loss: 0.4577 - accuracy: 0.8453 - val_loss: 1.4661 - val_accuracy: 0.6713\n",
            "Epoch 75/80\n",
            "6960/6960 [==============================] - 7s 958us/step - loss: 0.4427 - accuracy: 0.8586 - val_loss: 1.5110 - val_accuracy: 0.6615\n",
            "Epoch 76/80\n",
            "6960/6960 [==============================] - 7s 958us/step - loss: 0.4381 - accuracy: 0.8629 - val_loss: 1.4484 - val_accuracy: 0.6802\n",
            "Epoch 77/80\n",
            "6960/6960 [==============================] - 7s 960us/step - loss: 0.4016 - accuracy: 0.8657 - val_loss: 1.5276 - val_accuracy: 0.6599\n",
            "Epoch 78/80\n",
            "6960/6960 [==============================] - 7s 959us/step - loss: 0.4433 - accuracy: 0.8536 - val_loss: 1.5364 - val_accuracy: 0.6583\n",
            "Epoch 79/80\n",
            "6960/6960 [==============================] - 7s 958us/step - loss: 0.4168 - accuracy: 0.8678 - val_loss: 1.5727 - val_accuracy: 0.6477\n",
            "Epoch 80/80\n",
            "6960/6960 [==============================] - 7s 959us/step - loss: 0.3999 - accuracy: 0.8691 - val_loss: 1.5617 - val_accuracy: 0.6672\n"
          ],
          "name": "stdout"
        },
        {
          "output_type": "execute_result",
          "data": {
            "text/plain": [
              "<keras.callbacks.callbacks.History at 0x7fcf626d1be0>"
            ]
          },
          "metadata": {
            "tags": []
          },
          "execution_count": 21
        }
      ]
    },
    {
      "cell_type": "markdown",
      "metadata": {
        "id": "ANxSMLKW3p7N",
        "colab_type": "text"
      },
      "source": [
        "Save the model"
      ]
    },
    {
      "cell_type": "code",
      "metadata": {
        "id": "mVviEZz3Vlt0",
        "colab_type": "code",
        "colab": {
          "base_uri": "https://localhost:8080/",
          "height": 34
        },
        "outputId": "b4c58a44-540f-4925-ad85-092ea1c1aa39"
      },
      "source": [
        "model.save('model.h5')\n",
        "print('model saved')"
      ],
      "execution_count": null,
      "outputs": [
        {
          "output_type": "stream",
          "text": [
            "model saved\n"
          ],
          "name": "stdout"
        }
      ]
    },
    {
      "cell_type": "markdown",
      "metadata": {
        "id": "-yp_tBy53szW",
        "colab_type": "text"
      },
      "source": [
        "Load the model and test on dataset"
      ]
    },
    {
      "cell_type": "code",
      "metadata": {
        "id": "gGCK_yn8j_uX",
        "colab_type": "code",
        "colab": {
          "base_uri": "https://localhost:8080/",
          "height": 101
        },
        "outputId": "cd440f3d-d515-4d1e-e65f-6f31cc43966a"
      },
      "source": [
        "from keras.models import load_model\n",
        "model = load_model(\"model.h5\")\n",
        " \n",
        "score = model.evaluate(valx, valy)\n",
        " \n",
        "print('Test loss:', score[0]) \n",
        "print('Test accuracy:', score[1])\n",
        " \n",
        "#Predict output on sample input data\n",
        "pred = model.predict(valx) \n",
        "pred = np.argmax(pred, axis = 1)[:10] \n",
        "label = np.argmax(valy,axis = 1)[:10] \n",
        " \n",
        "print(\"Predicted labels:\",pred) \n",
        "print(\"Actual Labels:   \",label)"
      ],
      "execution_count": null,
      "outputs": [
        {
          "output_type": "stream",
          "text": [
            "1229/1229 [==============================] - 1s 656us/step\n",
            "Test loss: 1.5616647425078105\n",
            "Test accuracy: 0.6672090888023376\n",
            "Predicted labels: [11 35  7 64 11 11 86 35 87 23]\n",
            "Actual Labels:    [11 35  7 64 11 11 93 35 87 26]\n"
          ],
          "name": "stdout"
        }
      ]
    },
    {
      "cell_type": "code",
      "metadata": {
        "id": "BarxZ8I4x7Xd",
        "colab_type": "code",
        "colab": {
          "base_uri": "https://localhost:8080/",
          "height": 655
        },
        "outputId": "615500df-421d-4fac-9a99-9d18b8a782f4"
      },
      "source": [
        "model.summary()"
      ],
      "execution_count": null,
      "outputs": [
        {
          "output_type": "stream",
          "text": [
            "Model: \"sequential_6\"\n",
            "_________________________________________________________________\n",
            "Layer (type)                 Output Shape              Param #   \n",
            "=================================================================\n",
            "conv2d_9 (Conv2D)            (None, 74, 74, 64)        1792      \n",
            "_________________________________________________________________\n",
            "max_pooling2d_9 (MaxPooling2 (None, 37, 37, 64)        0         \n",
            "_________________________________________________________________\n",
            "dropout_9 (Dropout)          (None, 37, 37, 64)        0         \n",
            "_________________________________________________________________\n",
            "conv2d_10 (Conv2D)           (None, 35, 35, 128)       73856     \n",
            "_________________________________________________________________\n",
            "max_pooling2d_10 (MaxPooling (None, 17, 17, 128)       0         \n",
            "_________________________________________________________________\n",
            "dropout_10 (Dropout)         (None, 17, 17, 128)       0         \n",
            "_________________________________________________________________\n",
            "conv2d_11 (Conv2D)           (None, 15, 15, 128)       147584    \n",
            "_________________________________________________________________\n",
            "max_pooling2d_11 (MaxPooling (None, 7, 7, 128)         0         \n",
            "_________________________________________________________________\n",
            "dropout_11 (Dropout)         (None, 7, 7, 128)         0         \n",
            "_________________________________________________________________\n",
            "conv2d_12 (Conv2D)           (None, 5, 5, 256)         295168    \n",
            "_________________________________________________________________\n",
            "max_pooling2d_12 (MaxPooling (None, 2, 2, 256)         0         \n",
            "_________________________________________________________________\n",
            "flatten_3 (Flatten)          (None, 1024)              0         \n",
            "_________________________________________________________________\n",
            "dense_5 (Dense)              (None, 512)               524800    \n",
            "_________________________________________________________________\n",
            "dropout_12 (Dropout)         (None, 512)               0         \n",
            "_________________________________________________________________\n",
            "dense_6 (Dense)              (None, 102)               52326     \n",
            "=================================================================\n",
            "Total params: 1,095,526\n",
            "Trainable params: 1,095,526\n",
            "Non-trainable params: 0\n",
            "_________________________________________________________________\n"
          ],
          "name": "stdout"
        }
      ]
    },
    {
      "cell_type": "code",
      "metadata": {
        "id": "T5SKu19DrbQ9",
        "colab_type": "code",
        "colab": {}
      },
      "source": [
        ""
      ],
      "execution_count": null,
      "outputs": []
    }
  ]
}